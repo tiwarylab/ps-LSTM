{
 "cells": [
  {
   "cell_type": "code",
   "execution_count": 15,
   "metadata": {},
   "outputs": [],
   "source": [
    "import numpy as np\n",
    "import torch\n",
    "import torch.nn as nn\n",
    "import matplotlib.pyplot as plt\n",
    "plt.rcParams['mathtext.fontset'] = 'stix'"
   ]
  },
  {
   "cell_type": "code",
   "execution_count": 16,
   "metadata": {},
   "outputs": [],
   "source": [
    "device = torch.device(\"cpu\")"
   ]
  },
  {
   "cell_type": "markdown",
   "metadata": {},
   "source": [
    "### Defining netwroks with two linear layers. The network reads 3 parameters D_in, H, D_out, where H is the hidden dimension. The linear network works as two matrix multiplication. The first linear layer clamps output at 0 as RELU. The second linear layer output logits."
   ]
  },
  {
   "cell_type": "code",
   "execution_count": 17,
   "metadata": {},
   "outputs": [],
   "source": [
    "class TwoLayerNet(nn.Module):\n",
    "    \n",
    "    def __init__(self, D_in, H, D_out):    \n",
    "        super(TwoLayerNet, self).__init__()\n",
    "        \n",
    "        self.linear1=nn.Linear(D_in, H)\n",
    "        self.linear2=nn.Linear(H, D_out)\n",
    "    \n",
    "    def forward(self, x):\n",
    "        h_relu = self.linear1(x).clamp(min=0)\n",
    "        y_pred = self.linear2(h_relu)\n",
    "        \n",
    "        return y_pred"
   ]
  },
  {
   "cell_type": "markdown",
   "metadata": {},
   "source": [
    "### Predefined parameters"
   ]
  },
  {
   "cell_type": "code",
   "execution_count": 24,
   "metadata": {},
   "outputs": [],
   "source": [
    "# Average energy\n",
    "E_mean=3\n",
    "# N=number of sample, D_in=Input dimensions, H=Hidden dimension, D_out=Number of classes\n",
    "N, D_in, H, D_out = 64, 200, 100, 32 \n",
    "# Learning rate\n",
    "lr=1e-4\n",
    "# Number of optimization\n",
    "num_ops=3000 # try 10000!"
   ]
  },
  {
   "cell_type": "markdown",
   "metadata": {},
   "source": [
    "### Predefined data"
   ]
  },
  {
   "cell_type": "code",
   "execution_count": 19,
   "metadata": {},
   "outputs": [],
   "source": [
    "label='fix'"
   ]
  },
  {
   "cell_type": "code",
   "execution_count": 20,
   "metadata": {},
   "outputs": [],
   "source": [
    "# Input data\n",
    "X = torch.randn(N, D_in)\n",
    "# Lagrange multiplier\n",
    "l = torch.tensor(1, requires_grad=True, dtype=torch.float32)\n",
    "\n",
    "if label is 'fix':\n",
    "    shift=5\n",
    "    y=torch.ones(N, dtype=torch.long)+shift\n",
    "elif label is 'random':\n",
    "    y=torch.empty(N, dtype=torch.long).random_(D_out)\n",
    "else:\n",
    "    print('No target label.')\n",
    "    \n",
    "# Artifical energy levels\n",
    "E=np.array([[i+1 for i in range(D_out)] for j in range(N)])\n",
    "E=torch.tensor(E, dtype=torch.float32)"
   ]
  },
  {
   "cell_type": "markdown",
   "metadata": {},
   "source": [
    "### Predefined functions"
   ]
  },
  {
   "cell_type": "code",
   "execution_count": 21,
   "metadata": {},
   "outputs": [],
   "source": [
    "softmax=torch.nn.Softmax(dim=-1)"
   ]
  },
  {
   "cell_type": "markdown",
   "metadata": {},
   "source": [
    "### Building model"
   ]
  },
  {
   "cell_type": "code",
   "execution_count": 27,
   "metadata": {},
   "outputs": [],
   "source": [
    "model = TwoLayerNet(D_in, H, D_out)\n",
    "\n",
    "loss_fn = nn.CrossEntropyLoss()\n",
    "optimizer = torch.optim.SGD(model.parameters(), lr=lr)"
   ]
  },
  {
   "cell_type": "markdown",
   "metadata": {},
   "source": [
    "### Training"
   ]
  },
  {
   "cell_type": "code",
   "execution_count": null,
   "metadata": {},
   "outputs": [],
   "source": [
    "for i in range(num_ops):\n",
    "    Y=model(X)\n",
    "    loss = loss_fn(Y, y)+l*(E_mean-torch.mean(E*softmax(Y)))\n",
    "#     loss = l*(E_mean-torch.mean(E*softmax(Y)))\n",
    "    \n",
    "    if i % 1000 == 999:\n",
    "        print(i, loss.item())\n",
    "    \n",
    "    optimizer.zero_grad()\n",
    "    loss.backward()\n",
    "    optimizer.step()\n",
    "    l.data.add_(-lr*l.grad.data)\n",
    "    l.grad.zero_()\n",
    "    \n",
    "print('(E,l)={} {:.3}'.format(E_mean, l.data))"
   ]
  },
  {
   "cell_type": "markdown",
   "metadata": {},
   "source": [
    "### Checking performance of model"
   ]
  },
  {
   "cell_type": "code",
   "execution_count": 10,
   "metadata": {},
   "outputs": [
    {
     "data": {
      "image/png": "[encoded data removed]",
      "text/plain": [
       "<Figure size 432x360 with 1 Axes>"
      ]
     },
     "metadata": {
      "needs_background": "light"
     },
     "output_type": "display_data"
    }
   ],
   "source": [
    "test_X = torch.randn(N, D_in)\n",
    "test_Y=model(test_X)\n",
    "\n",
    "plt.rcParams['figure.figsize']=(6,5)\n",
    "plt.plot(softmax(test_Y).detach().numpy()[0])\n",
    "plt.tick_params(axis='both', which='both', labelsize=16)\n",
    "plt.xlabel('Index', size=16)\n",
    "plt.ylabel('Prob', size=16)\n",
    "plt.show()"
   ]
  },
  {
   "cell_type": "markdown",
   "metadata": {},
   "source": [
    "## Training with different observed average energy"
   ]
  },
  {
   "cell_type": "markdown",
   "metadata": {},
   "source": [
    "### Predefined parameters"
   ]
  },
  {
   "cell_type": "code",
   "execution_count": 11,
   "metadata": {},
   "outputs": [],
   "source": [
    "E_mean_list=[0.0, 0.2, 0.4, 0.6, 0.8, 1.0, 1.2, 1.4, 1.6, 1.8, 2.0, 2.2, 2.4]"
   ]
  },
  {
   "cell_type": "markdown",
   "metadata": {},
   "source": [
    "### Predefined functions"
   ]
  },
  {
   "cell_type": "code",
   "execution_count": 12,
   "metadata": {},
   "outputs": [],
   "source": [
    "def compute_l(X, l, D_in, H, D_out, num_ops):\n",
    "    \"\"\"\n",
    "    Compute Langrange multiplier l.\n",
    "    \"\"\"\n",
    "\n",
    "    for i in range(num_ops):\n",
    "        Y=model(X)\n",
    "        loss = loss_fn(Y, y)+l*(E_mean-torch.mean(E*softmax(Y)))\n",
    "        \n",
    "        optimizer.zero_grad()\n",
    "        loss.backward()\n",
    "        optimizer.step()\n",
    "        l.data.add_(-lr*l.grad.data)\n",
    "        l.grad.zero_()\n",
    "    \n",
    "    return l.data.item()\n"
   ]
  },
  {
   "cell_type": "markdown",
   "metadata": {},
   "source": [
    "### Trainings"
   ]
  },
  {
   "cell_type": "code",
   "execution_count": 13,
   "metadata": {},
   "outputs": [
    {
     "name": "stdout",
     "output_type": "stream",
     "text": [
      "1.1294220685958862\n",
      "1.045278787612915\n",
      "0.9720120429992676\n",
      "0.9051822423934937\n",
      "0.8409008979797363\n",
      "0.7782265543937683\n",
      "0.7169197201728821\n",
      "0.655023992061615\n",
      "0.5937061309814453\n",
      "0.5321058630943298\n",
      "0.47108590602874756\n",
      "0.4106146991252899\n",
      "0.34988492727279663\n"
     ]
    }
   ],
   "source": [
    "ls=[]\n",
    "for E_mean in E_mean_list:\n",
    "    \n",
    "    X = torch.randn(N, D_in)\n",
    "    l = torch.tensor(1, requires_grad=True, dtype=torch.float32)\n",
    "    l_final = compute_l(X, l, D_in, H, D_out, num_ops)\n",
    "    print(l_final)\n",
    "    ls.append(l_final)\n",
    "    "
   ]
  },
  {
   "cell_type": "markdown",
   "metadata": {},
   "source": [
    "### Checking the behavior."
   ]
  },
  {
   "cell_type": "code",
   "execution_count": 14,
   "metadata": {},
   "outputs": [
    {
     "data": {
      "image/png": "[encoded data removed]",
      "text/plain": [
       "<Figure size 432x360 with 1 Axes>"
      ]
     },
     "metadata": {
      "needs_background": "light"
     },
     "output_type": "display_data"
    }
   ],
   "source": [
    "E_mean_list=np.array(E_mean_list)\n",
    "ls=np.array(ls)\n",
    "\n",
    "fig, ax=plt.subplots(figsize=(6,5))\n",
    "ax.scatter(E_mean_list, ls*E_mean_list)\n",
    "ax.tick_params(axis='both', which='both', direction='in', labelsize=16)\n",
    "ax.set_xlabel('$\\overline{E}$', size=16)\n",
    "ax.set_ylabel('$\\\\beta*\\overline{E}$', size=16)\n",
    "\n",
    "plt.show()"
   ]
  }
 ],
 "metadata": {
  "kernelspec": {
   "display_name": "Python 3",
   "language": "python",
   "name": "python3"
  },
  "language_info": {
   "codemirror_mode": {
    "name": "ipython",
    "version": 3
   },
   "file_extension": ".py",
   "mimetype": "text/x-python",
   "name": "python",
   "nbconvert_exporter": "python",
   "pygments_lexer": "ipython3",
   "version": "3.7.3"
  }
 },
 "nbformat": 4,
 "nbformat_minor": 2
}
