{
 "cells": [
  {
   "cell_type": "code",
   "execution_count": 2,
   "metadata": {},
   "outputs": [],
   "source": [
    "import time\n",
    "import numpy as np\n",
    "import matplotlib.pyplot as plt\n",
    "from mpl_toolkits.axes_grid1 import make_axes_locatable\n",
    "from matplotlib.ticker import MaxNLocator\n",
    "plt.rcParams['mathtext.fontset'] = 'stix'\n",
    "\n",
    "import functools\n",
    "import re\n",
    "from multiprocessing import Pool\n",
    "import itertools"
   ]
  },
  {
   "cell_type": "markdown",
   "metadata": {},
   "source": [
    "### Defining labels and corresponding state positions"
   ]
  },
  {
   "cell_type": "code",
   "execution_count": 3,
   "metadata": {},
   "outputs": [],
   "source": [
    "# states\n",
    "L = -5.4\n",
    "R = 5.4\n",
    "\n",
    "# index\n",
    "bins=np.arange(-15., 17, 1)\n",
    "idx_L=np.digitize(L, bins)\n",
    "idx_R=np.digitize(R, bins)"
   ]
  },
  {
   "cell_type": "markdown",
   "metadata": {},
   "source": [
    "### Defining functions for counting transitions"
   ]
  },
  {
   "cell_type": "code",
   "execution_count": 4,
   "metadata": {},
   "outputs": [],
   "source": [
    "def within(coordinate, center, radius):\n",
    "    \"\"\"\n",
    "    Determine whether a coordinate is within the predefined center.\n",
    "    \"\"\"\n",
    "    return np.linalg.norm(coordinate - center) <= radius\n",
    "\n",
    "\n",
    "def classify(coordinate, radius):\n",
    "    \"\"\"\n",
    "    Classify coordinates as labels.\n",
    "    \"\"\"\n",
    "    if within(coordinate, idx_L, radius):\n",
    "        return \"L\"\n",
    "    elif within(coordinate, idx_R, radius):\n",
    "        return \"R\"\n",
    "    else:\n",
    "        return \"N\"\n",
    "    \n",
    "    \n",
    "def count(data, commit):\n",
    "    \n",
    "    # Convert 1*commit A,B,C by a,b,c\n",
    "    data = data.replace('L' * commit, 'l')\n",
    "    data = data.replace('R' * commit, 'r')\n",
    "    \n",
    "    # Remove remained A,B,C, and N.\n",
    "    data = data.replace('L', \"\") # Remove all A's\n",
    "    data = data.replace('R', '')\n",
    "    data = data.replace('N', '')\n",
    "    \n",
    "    # Convert a,b,c back to A,B,C. I think it should be okay to process with just X,Y,Z\n",
    "    data = data.replace('l', 'L')\n",
    "    data = data.replace('r', 'R')\n",
    "    \n",
    "    # Now note here that each A,B,C are actually represent 1*commit A,B,C. AA+ means there are at least 2*commit A. \n",
    "    # Here replacing AA+ by A.\n",
    "    data = re.sub('LL+', 'L', data)\n",
    "    data = re.sub('RR+', 'R', data)\n",
    "        \n",
    "    n1 = data.count(\"LR\")\n",
    "    n2 = data.count(\"RL\")\n",
    "    \n",
    "    return n1, n2\n",
    "\n",
    "\n",
    "def find_plateau(count_arr):\n",
    "    \"\"\"\n",
    "    The input should be just one count arr, e.g. res[i].\n",
    "    How do I determine a plateau? \n",
    "    1. Plateau with commit time > 10, \n",
    "    2. Plateau should be at least 2-step long.\n",
    "    \"\"\"\n",
    "    for i in range(5,len(count_arr)-1):\n",
    "        if count_arr[i+1]==count_arr[i]:\n",
    "            return count_arr[i]\n",
    "\n",
    "    return count_arr[-1]\n",
    "\n",
    "\n",
    "def count_arr(data_array):\n",
    "    \"\"\"\n",
    "    Counts vs commit times from the input data_array.\n",
    "    \n",
    "    \"\"\"\n",
    "    # Choose the range of commit time. L=10 and R=21, so transition must be at least 5 steps.\n",
    "    commits = list(range(5,20, 1))\n",
    "    \n",
    "    # Convert data_array to \"L\" and \"R\"\n",
    "    data = \"\".join(list(map(functools.partial(classify, radius=1), data_array)))\n",
    "\n",
    "    # Count transitions vs commit times\n",
    "    count_partial = functools.partial(count, data)\n",
    "    \n",
    "    res = list(map(count_partial, commits))\n",
    "    res = list(zip(*res))\n",
    "    \n",
    "    return res"
   ]
  },
  {
   "cell_type": "markdown",
   "metadata": {},
   "source": [
    "### Read data"
   ]
  },
  {
   "cell_type": "code",
   "execution_count": 11,
   "metadata": {},
   "outputs": [],
   "source": [
    "pred2=[]\n",
    "for i in range(10):\n",
    "    pdfile = './N_mean0_42/Output-conc/{}/prediction.npy'.format(i)\n",
    "    prediction2 = np.load(pdfile)\n",
    "    pred2.append(prediction2)"
   ]
  },
  {
   "cell_type": "markdown",
   "metadata": {},
   "source": [
    "### Analyze"
   ]
  },
  {
   "cell_type": "code",
   "execution_count": 6,
   "metadata": {},
   "outputs": [],
   "source": [
    "# Pick one segment from data\n",
    "i=17\n",
    "segment_len=200000\n",
    "data_array=pred2[0][i*segment_len:(i+1)*segment_len]\n",
    "# Choose the range of commit time. L=10 and R=21, so transition must be at least 5 steps.\n",
    "commits = list(range(5,20, 1))\n",
    "# Convert data_array to \"L\" and \"R\"\n",
    "data = \"\".join(list(map(functools.partial(classify, radius=1), data_array)))\n",
    "\n",
    "# Count transitions vs commit times\n",
    "count2 = functools.partial(count, data)\n",
    "\n",
    "p = Pool(4)\n",
    "res = list(p.map(count2, commits))\n",
    "res = list(zip(*res))"
   ]
  },
  {
   "cell_type": "markdown",
   "metadata": {},
   "source": [
    "### Make commit time plot"
   ]
  },
  {
   "cell_type": "code",
   "execution_count": 7,
   "metadata": {},
   "outputs": [
    {
     "data": {
      "image/png": "[encoded data removed]",
      "text/plain": [
       "<Figure size 1080x216 with 1 Axes>"
      ]
     },
     "metadata": {
      "needs_background": "light"
     },
     "output_type": "display_data"
    }
   ],
   "source": [
    "plt.rcParams[\"figure.figsize\"] = (15,3)\n",
    "plt.plot(data_array);"
   ]
  },
  {
   "cell_type": "code",
   "execution_count": 8,
   "metadata": {},
   "outputs": [
    {
     "data": {
      "image/png": "[encoded data removed]",
      "text/plain": [
       "<Figure size 864x288 with 2 Axes>"
      ]
     },
     "metadata": {
      "needs_background": "light"
     },
     "output_type": "display_data"
    }
   ],
   "source": [
    "fig, ax=plt.subplots(figsize=(12,4), nrows=1, ncols=2)\n",
    "ax=ax.flatten()\n",
    "\n",
    "\n",
    "pairs = ['LR', 'RL']\n",
    "ax[0].plot(commits, res[0], label='{}'.format(pairs[0]))\n",
    "ax[1].plot(commits, res[1], label='{}'.format(pairs[1]))\n",
    "\n",
    "\n",
    "ax[0].tick_params(axis='both', which='both', direction='in', labelsize=16)\n",
    "ax[0].set_xlabel('Commit time (steps)', size=16)\n",
    "ax[0].legend(loc='upper right', fontsize=16)\n",
    "ax[0].set_ylabel('Count', size=16)\n",
    "ax[0].set_yticks(np.arange(20))\n",
    "ax[0].set_ylim(0,15)\n",
    "ax[0].grid()\n",
    "\n",
    "ax[1].tick_params(axis='both', which='both', direction='in', labelsize=16)\n",
    "ax[1].set_xlabel('Commit time (steps)', size=16)\n",
    "ax[1].legend(loc='upper right', fontsize=16)\n",
    "ax[1].set_ylabel('Count', size=16)\n",
    "ax[1].set_yticks(np.arange(20))\n",
    "ax[1].set_ylim(0,15)\n",
    "ax[1].grid()\n",
    "\n",
    "fig.tight_layout()\n",
    "plt.show()"
   ]
  },
  {
   "cell_type": "markdown",
   "metadata": {},
   "source": [
    "### Compute for one trajectory"
   ]
  },
  {
   "cell_type": "code",
   "execution_count": 12,
   "metadata": {},
   "outputs": [],
   "source": [
    "N_val = {}\n",
    "# This for loop can be paralleled.\n",
    "for i in range(20):\n",
    "\n",
    "    # Pick one segment from data\n",
    "    segment_len=200000\n",
    "    data_array = pred2[0][i*segment_len:(i+1)*segment_len]\n",
    "\n",
    "    N_val[i] = list(map(find_plateau, count_arr(data_array)))"
   ]
  },
  {
   "cell_type": "code",
   "execution_count": 13,
   "metadata": {},
   "outputs": [],
   "source": [
    "N_arr = np.array(list(N_val.values()))\n",
    "t_arr = segment_len/N_arr"
   ]
  },
  {
   "cell_type": "code",
   "execution_count": 21,
   "metadata": {},
   "outputs": [],
   "source": [
    "# Mean transition time\n",
    "mean_t = len(pred2[0])*0.05/np.sum(N_arr, axis=0)\n",
    "stdv_t = np.std(t_arr*0.05, axis=0)/np.sqrt(len(N_arr))"
   ]
  },
  {
   "cell_type": "markdown",
   "metadata": {},
   "source": [
    "### Transition time ($ps$)"
   ]
  },
  {
   "cell_type": "code",
   "execution_count": 24,
   "metadata": {},
   "outputs": [
    {
     "data": {
      "text/plain": [
       "(array([884.95575221, 881.05726872]), array([67.29477241, 67.40845086]))"
      ]
     },
     "execution_count": 24,
     "metadata": {},
     "output_type": "execute_result"
    }
   ],
   "source": [
    "mean_t, stdv_t"
   ]
  },
  {
   "cell_type": "markdown",
   "metadata": {},
   "source": [
    "### Calculate averaged over 10 independent training and runs"
   ]
  },
  {
   "cell_type": "code",
   "execution_count": 12,
   "metadata": {},
   "outputs": [
    {
     "name": "stdout",
     "output_type": "stream",
     "text": [
      "0\n",
      "1\n",
      "2\n",
      "3\n",
      "4\n",
      "5\n",
      "6\n",
      "7\n",
      "8\n",
      "9\n"
     ]
    }
   ],
   "source": [
    "def traj_i(traj):\n",
    "\n",
    "    N_val = {}\n",
    "    # This for loop can be paralleled.\n",
    "    for i in range(20):\n",
    "\n",
    "        # Pick one segment from data\n",
    "        segment_len=200000\n",
    "        data_array = traj[i*segment_len:(i+1)*segment_len]\n",
    "\n",
    "        N_val[i] = list(map(find_plateau, count_arr(data_array)))\n",
    "    \n",
    "    \n",
    "    N_arr = np.array(list(N_val.values()))\n",
    "    t_arr = segment_len/N_arr\n",
    "    \n",
    "    # Mean transition time\n",
    "    mean_t = len(traj)*0.05/np.sum(N_arr, axis=0)\n",
    "    stdv_t = np.std(t_arr*0.05, axis=0)/np.sqrt(len(N_arr))\n",
    "    \n",
    "    return mean_t, stdv_t\n",
    "\n",
    "\n",
    "mean_t_arr = []\n",
    "stdv_t_arr = []\n",
    "for i in range(10):\n",
    "    \n",
    "    traj = pred2[i]\n",
    "    \n",
    "    mean_t_i, stdv_t_i = traj_i(traj)\n",
    "    \n",
    "    mean_t_arr.append(mean_t_i)\n",
    "    stdv_t_arr.append(stdv_t_i)\n",
    "    print(i)"
   ]
  },
  {
   "cell_type": "code",
   "execution_count": 13,
   "metadata": {},
   "outputs": [
    {
     "data": {
      "text/plain": [
       "array([[ 884.95575221,  881.05726872],\n",
       "       [ 956.93779904,  966.18357488],\n",
       "       [ 699.3006993 ,  694.44444444],\n",
       "       [1379.31034483, 1388.88888889],\n",
       "       [ 743.49442379,  754.71698113],\n",
       "       [ 947.86729858,  952.38095238],\n",
       "       [1086.95652174, 1092.89617486],\n",
       "       [ 787.4015748 ,  790.51383399],\n",
       "       [ 766.2835249 ,  760.45627376],\n",
       "       [ 947.86729858,  943.39622642]])"
      ]
     },
     "execution_count": 13,
     "metadata": {},
     "output_type": "execute_result"
    }
   ],
   "source": [
    "mean_t_arr = np.array(mean_t_arr)\n",
    "mean_t_arr"
   ]
  },
  {
   "cell_type": "code",
   "execution_count": 14,
   "metadata": {},
   "outputs": [
    {
     "data": {
      "text/plain": [
       "array([920.03752378, 922.49346195])"
      ]
     },
     "execution_count": 14,
     "metadata": {},
     "output_type": "execute_result"
    }
   ],
   "source": [
    "mean_t = np.mean(mean_t_arr,axis=0)\n",
    "mean_t"
   ]
  },
  {
   "cell_type": "code",
   "execution_count": 15,
   "metadata": {},
   "outputs": [
    {
     "data": {
      "text/plain": [
       "array([[ 67.29477241,  67.40845086],\n",
       "       [ 51.50740083,  48.92311183],\n",
       "       [ 38.98739255,  35.41597137],\n",
       "       [ 89.15685113, 103.13287329],\n",
       "       [ 47.5440516 ,  47.6499896 ],\n",
       "       [ 66.92836383,  54.40010507],\n",
       "       [ 93.38973937,  98.37221889],\n",
       "       [ 41.58132739,  43.61701303],\n",
       "       [ 49.58333422,  44.86864128],\n",
       "       [ 61.31430232,  60.89949826]])"
      ]
     },
     "execution_count": 15,
     "metadata": {},
     "output_type": "execute_result"
    }
   ],
   "source": [
    "stdv_t_arr = np.array(stdv_t_arr)\n",
    "stdv_t_arr"
   ]
  },
  {
   "cell_type": "code",
   "execution_count": 16,
   "metadata": {},
   "outputs": [
    {
     "data": {
      "text/plain": [
       "array([63.29218218, 64.31129354])"
      ]
     },
     "execution_count": 16,
     "metadata": {},
     "output_type": "execute_result"
    }
   ],
   "source": [
    "stdv_t = np.sqrt(np.mean(stdv_t_arr**2, axis=0))\n",
    "stdv_t"
   ]
  }
 ],
 "metadata": {
  "kernelspec": {
   "display_name": "Python 3 (ipykernel)",
   "language": "python",
   "name": "python3"
  },
  "language_info": {
   "codemirror_mode": {
    "name": "ipython",
    "version": 3
   },
   "file_extension": ".py",
   "mimetype": "text/x-python",
   "name": "python",
   "nbconvert_exporter": "python",
   "pygments_lexer": "ipython3",
   "version": "3.7.12"
  }
 },
 "nbformat": 4,
 "nbformat_minor": 4
}
