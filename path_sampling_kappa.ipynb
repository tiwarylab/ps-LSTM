{
 "cells": [
  {
   "cell_type": "code",
   "execution_count": 2,
   "metadata": {},
   "outputs": [],
   "source": [
    "import os\n",
    "import numpy as np\n",
    "import matplotlib.pyplot as plt\n",
    "plt.rcParams['mathtext.fontset'] = 'stix'"
   ]
  },
  {
   "cell_type": "markdown",
   "metadata": {
    "tags": []
   },
   "source": [
    "# Calculate $\\kappa$ sampled from the first training"
   ]
  },
  {
   "cell_type": "markdown",
   "metadata": {},
   "source": [
    "In the first training, we let 200 independent LSTMs predict 200 trajectories of 200$ns$. Since we are using LSTM as a generative model, we can also train just one LSTM and use it to generate 200 predictions, starting from either the same initial condition or different initial conditions.\n",
    "\n",
    "Data location: `./Output/`"
   ]
  },
  {
   "cell_type": "code",
   "execution_count": 3,
   "metadata": {},
   "outputs": [],
   "source": [
    "output_dir='./Output'\n",
    "kappa_list=[]\n",
    "\n",
    "for i in range(200):\n",
    "\n",
    "    pred_dir=os.path.join(output_dir, '{}/prediction.npy'.format(i))\n",
    "    prediction=np.load(pred_dir)\n",
    "\n",
    "    N0=len(np.where(prediction<=15)[0])\n",
    "    N1=len(np.where(prediction>=16)[0])\n",
    "    kappa=N0/N1\n",
    "    kappa_list.append(kappa)\n",
    "    \n",
    "kappa_arr=np.array(kappa_list)"
   ]
  },
  {
   "cell_type": "markdown",
   "metadata": {},
   "source": [
    "Plot distribution of $\\kappa$"
   ]
  },
  {
   "cell_type": "code",
   "execution_count": 5,
   "metadata": {},
   "outputs": [
    {
     "data": {
      "image/png": "[encoded data removed]",
      "text/plain": [
       "<Figure size 360x288 with 1 Axes>"
      ]
     },
     "metadata": {
      "needs_background": "light"
     },
     "output_type": "display_data"
    }
   ],
   "source": [
    "hist = np.histogram( kappa_arr, bins=50 )\n",
    "prob = hist[0].T\n",
    "mids = 0.5*(hist[1][1:]+hist[1][:-1])\n",
    "\n",
    "fig, ax = plt.subplots(figsize=(5,4))\n",
    "\n",
    "ax.set_title('Distribution', size=20)\n",
    "ax.plot(mids, prob)\n",
    "\n",
    "ax.tick_params(axis='both', which='both', direction='in', labelsize=14)\n",
    "ax.set_xlabel('$\\kappa$', size=16)\n",
    "ax.set_ylabel('Counts', size=16)\n",
    "ax.set_yscale('log')\n",
    "\n",
    "plt.show()"
   ]
  },
  {
   "cell_type": "markdown",
   "metadata": {},
   "source": [
    "# Determine $\\Delta\\lambda$"
   ]
  },
  {
   "cell_type": "markdown",
   "metadata": {
    "tags": []
   },
   "source": [
    "Following the reference, we want to solve the following equation for $\\Delta\\lambda$\n",
    "\n",
    "\\begin{align}\n",
    "    \\bar{s}^{(j)}_2&=\\sum_{\\Gamma}P^{(2)}_{\\Gamma}s^{(j)}_{\\Gamma} \\nonumber \\\\\n",
    "    &=\\frac{\\sum_{k\\in\\Omega} s^{(j)}_k e^{-\\Delta\\lambda_j s^{(j)}_k} }{\\sum_{k\\in\\Omega} e^{-\\Delta\\lambda_j s^{(j)}_k}} \\\\\n",
    "    &=f(\\Delta\\lambda)\n",
    "    \\label{eq:lambda_solver}\n",
    "\\end{align}\n",
    "\n",
    "\n",
    "To determine the $\\Delta\\lambda$ value, we can calculate the above equation and plot it versus $\\Delta\\lambda$, and find $\\Delta\\lambda=\\Delta\\lambda_{\\ast}$ which gives \n",
    "\\begin{align}\n",
    "\\bar{s}^{(j)}_2=f(\\Delta\\lambda_{\\ast})=s^{\\rm target}\n",
    "\\end{align}\n",
    "\n",
    "We would also like to predict the variance of $\\bar{s}^{(j)}_2$, which can be obtained through derivative of $f$.\n",
    "\\begin{align}\n",
    "f'(\\lambda)==-\\sigma^2_{\\bar{s}^{(j)}_2}\n",
    "\\end{align}\n"
   ]
  },
  {
   "cell_type": "markdown",
   "metadata": {},
   "source": [
    "### $s=\\kappa$"
   ]
  },
  {
   "cell_type": "code",
   "execution_count": 6,
   "metadata": {},
   "outputs": [
    {
     "data": {
      "image/png": "[encoded data removed]",
      "text/plain": [
       "<Figure size 360x216 with 1 Axes>"
      ]
     },
     "metadata": {
      "needs_background": "light"
     },
     "output_type": "display_data"
    },
    {
     "name": "stdout",
     "output_type": "stream",
     "text": [
      "f(0.317) = 1.000\n",
      "Standard error stderr[f(0)]=3.185\n",
      "df(0.317) = -1.310\n",
      "Expected standard error for new kappa = 0.081\n"
     ]
    }
   ],
   "source": [
    "def f(lm):\n",
    "    return np.sum(kappa_arr*np.exp(-lm*kappa_arr))/np.sum(np.exp(-lm*kappa_arr))\n",
    "\n",
    "def df(lm):\n",
    "    return f(lm)**2-np.sum(kappa_arr*kappa_arr*np.exp(-lm*kappa_arr))/np.sum(np.exp(-lm*kappa_arr))\n",
    "\n",
    "lm_arr = np.linspace(0,5)\n",
    "f_arr = [f(lm_i) for lm_i in lm_arr]\n",
    "\n",
    "\n",
    "fig, ax=plt.subplots(figsize=(5,3))\n",
    "\n",
    "ax.plot(lm_arr, f_arr, label='$\\kappa_f$')\n",
    "ax.plot(lm_arr, [1]*len(lm_arr), '--', label='$\\kappa^{\\mathrm{target}}$')\n",
    "\n",
    "ax.tick_params(axis='both', which='both', direction='in', labelsize=14)\n",
    "ax.set_xlabel('$\\lambda$', size=16)\n",
    "ax.set_ylabel('$f(\\lambda)$', size=16)\n",
    "\n",
    "ax.legend(fontsize=16)\n",
    "\n",
    "plt.show()\n",
    "\n",
    "lm=0.317\n",
    "print( 'f({:.3f}) = {:.3f}'.format(lm, f(lm)) )\n",
    "print( 'Standard error stderr[f(0)]={:.3f}'.format(np.std(kappa_arr)/np.sqrt(len(kappa_arr))) )\n",
    "\n",
    "print( 'df({:.3f}) = {:.3f}'.format(lm, df(lm)) )\n",
    "print( 'Expected standard error for new kappa = {:.3f}'.format( np.sqrt(-df(lm))/np.sqrt(len(kappa_arr)) ) )"
   ]
  },
  {
   "cell_type": "markdown",
   "metadata": {},
   "source": [
    "So we will constrain our $\\kappa$ to 1 with standard error 0.081. Due to small subset we will select, the variance could be large. As a result, we will not stop sampling until we reach a reasonable average value of $\\kappa$ of the subset."
   ]
  },
  {
   "cell_type": "code",
   "execution_count": 13,
   "metadata": {},
   "outputs": [
    {
     "name": "stdout",
     "output_type": "stream",
     "text": [
      "mean of selected sample = 1.010\n",
      "Standard error stderr[selected sample] = 0.085\n"
     ]
    }
   ],
   "source": [
    "lm_ast=0.317 # Delta_lambda we used for bias sampling\n",
    "p=np.exp(-lm_ast*(kappa_arr))\n",
    "p/=np.sum(p)\n",
    "\n",
    "mean=np.inf\n",
    "stdv=np.inf\n",
    "while abs(mean-1)>0.01 or abs(stdv-0.081)>0.01:\n",
    "    idx = np.random.choice(len(kappa_arr), 10, p=p)\n",
    "    selected = kappa_arr[idx]\n",
    "    \n",
    "    mean=np.mean(selected)\n",
    "    stdv=np.std(selected)/np.sqrt(len(selected))\n",
    "    \n",
    "print( 'mean of selected sample = {:.3f}'.format(np.mean(selected)) )\n",
    "print( 'Standard error stderr[selected sample] = {:.3f}'.format(np.std(selected)/np.sqrt(len(selected))) )"
   ]
  },
  {
   "cell_type": "markdown",
   "metadata": {},
   "source": [
    "Concatenate the subset to a single trajectory, this concatenated trajectory is then used later to re-train a new LSTM."
   ]
  },
  {
   "cell_type": "markdown",
   "metadata": {},
   "source": [
    "# Concatenate subset as a new training set"
   ]
  },
  {
   "cell_type": "code",
   "execution_count": 14,
   "metadata": {},
   "outputs": [
    {
     "name": "stdout",
     "output_type": "stream",
     "text": [
      "0.8015989190406486\n",
      "0.7965416573096789\n",
      "1.7318112591601047\n",
      "0.8249673787081055\n",
      "0.8978032926887128\n",
      "1.0385489608496672\n",
      "0.9956395276321238\n",
      "0.8256337231061333\n",
      "0.9929648341355016\n",
      "1.1913725662068437\n"
     ]
    }
   ],
   "source": [
    "conc=[]\n",
    "output_dir='./Output'\n",
    "\n",
    "for i in idx:\n",
    "    pred_dir=os.path.join(output_dir, '{}/prediction.npy'.format(i))\n",
    "    prediction=np.load(pred_dir)\n",
    "    N0=len(np.where(prediction<=15)[0])\n",
    "    N1=len(np.where(prediction>=16)[0])\n",
    "    kappa=N0/N1\n",
    "    print(kappa)\n",
    "    \n",
    "    conc.extend(prediction)\n",
    "    \n",
    "conc = np.array(conc)"
   ]
  },
  {
   "cell_type": "markdown",
   "metadata": {},
   "source": [
    "We can also check what the $\\kappa$ value of concatenated trajectory is."
   ]
  },
  {
   "cell_type": "code",
   "execution_count": 15,
   "metadata": {},
   "outputs": [
    {
     "name": "stdout",
     "output_type": "stream",
     "text": [
      "kappa_conc:0.980\n"
     ]
    }
   ],
   "source": [
    "N0=len(np.where(conc<=15)[0])\n",
    "N1=len(np.where(conc>=16)[0])\n",
    "kappa_conc = N0/N1\n",
    "print('kappa_conc:{:.3f}'.format(kappa_conc))"
   ]
  }
 ],
 "metadata": {
  "kernelspec": {
   "display_name": "Python 3 (ipykernel)",
   "language": "python",
   "name": "python3"
  },
  "language_info": {
   "codemirror_mode": {
    "name": "ipython",
    "version": 3
   },
   "file_extension": ".py",
   "mimetype": "text/x-python",
   "name": "python",
   "nbconvert_exporter": "python",
   "pygments_lexer": "ipython3",
   "version": "3.7.12"
  }
 },
 "nbformat": 4,
 "nbformat_minor": 4
}
